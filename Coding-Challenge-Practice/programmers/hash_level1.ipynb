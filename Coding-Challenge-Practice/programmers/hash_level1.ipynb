{
  "nbformat": 4,
  "nbformat_minor": 0,
  "metadata": {
    "colab": {
      "name": "hash_level1.ipynb",
      "provenance": [],
      "authorship_tag": "ABX9TyO65RIiskJRfFlanVXvR03e",
      "include_colab_link": true
    },
    "kernelspec": {
      "name": "python3",
      "display_name": "Python 3"
    }
  },
  "cells": [
    {
      "cell_type": "markdown",
      "metadata": {
        "id": "view-in-github",
        "colab_type": "text"
      },
      "source": [
        "<a href=\"https://colab.research.google.com/github/12jeong/12jeong.github.io/blob/master/Coding-Challenge-Practice/programmers/hash_level1.ipynb\" target=\"_parent\"><img src=\"https://colab.research.google.com/assets/colab-badge.svg\" alt=\"Open In Colab\"/></a>"
      ]
    },
    {
      "cell_type": "markdown",
      "metadata": {
        "id": "vIYGyQifK_t5",
        "colab_type": "text"
      },
      "source": [
        "### 완주하지 못한 선수\n",
        "https://programmers.co.kr/learn/courses/30/parts/12077\n"
      ]
    },
    {
      "cell_type": "markdown",
      "metadata": {
        "id": "JH7abieaLEl8",
        "colab_type": "text"
      },
      "source": [
        "1차 시도 - 효율성 0 ㅠ.ㅠ "
      ]
    },
    {
      "cell_type": "code",
      "metadata": {
        "id": "2m-EJBsRKcaf",
        "colab_type": "code",
        "colab": {}
      },
      "source": [
        "import numpy as np\n",
        "def solution(participant, completion):\n",
        "    people = np.unique(participant+completion)\n",
        "    for p in people:\n",
        "        p_count = sum([x==p for x in participant]) # 두 리스트에서 사람이 등장하는 횟수 세기\n",
        "        c_count = sum([x==p for x in completion])\n",
        "        if (abs(p_count-c_count) == 0 ):\n",
        "            continue\n",
        "        else:\n",
        "            return(p)\n",
        "    "
      ],
      "execution_count": 0,
      "outputs": []
    },
    {
      "cell_type": "markdown",
      "metadata": {
        "id": "CPrz0lO7MSJ9",
        "colab_type": "text"
      },
      "source": [
        "2차 시도 - Fail ㅠ.ㅠ"
      ]
    },
    {
      "cell_type": "code",
      "metadata": {
        "id": "IcaucVvbLXXD",
        "colab_type": "code",
        "colab": {}
      },
      "source": [
        "def solution(participant, completion):\n",
        "    return(set(participant) - set(completion)) # set을 이용하여 차집합 사용\n",
        "\n",
        "# participant에 동명이인이 있는 경우 "
      ],
      "execution_count": 0,
      "outputs": []
    },
    {
      "cell_type": "markdown",
      "metadata": {
        "id": "L5ASKohPNuOi",
        "colab_type": "text"
      },
      "source": [
        "Cheating - zip을 활용하자"
      ]
    },
    {
      "cell_type": "code",
      "metadata": {
        "id": "WCmuWHscNvSm",
        "colab_type": "code",
        "colab": {}
      },
      "source": [
        "def solution(participant, completion):\n",
        "    participant.sort()\n",
        "    completion.sort()\n",
        "    for x, y in zip(participant, completion) :\n",
        "        if x != y :\n",
        "            return x\n",
        "    return participant[-1]"
      ],
      "execution_count": 0,
      "outputs": []
    },
    {
      "cell_type": "markdown",
      "metadata": {
        "id": "-hJ9ZdolOIzL",
        "colab_type": "text"
      },
      "source": [
        "Cheating2 - collection에 count 함수가 있다 (하고싶었던게 이건데...!!!)"
      ]
    },
    {
      "cell_type": "code",
      "metadata": {
        "id": "fLOO1yufOLOf",
        "colab_type": "code",
        "colab": {}
      },
      "source": [
        "import collections\n",
        "\n",
        "def solution(participant, completion):\n",
        "    answer = collections.Counter(participant) - collections.Counter(completion)\n",
        "    return list(answer.keys())[0]"
      ],
      "execution_count": 0,
      "outputs": []
    },
    {
      "cell_type": "code",
      "metadata": {
        "id": "rhOZMAo5OaFW",
        "colab_type": "code",
        "outputId": "af69e7fd-d7b0-4e6b-bc93-ab5ed234a486",
        "colab": {
          "base_uri": "https://localhost:8080/",
          "height": 89
        }
      },
      "source": [
        "participant = ['leo', 'kiki', 'eden']\n",
        "completion = ['eden', 'kiki']\n",
        "\n",
        "print('참가자:',collections.Counter(participant))\n",
        "print('완주자:',collections.Counter(completion))\n",
        "answer = collections.Counter(participant) - collections.Counter(completion)\n",
        "print(answer)\n",
        "print('정답:',list(answer.keys())[0])"
      ],
      "execution_count": 0,
      "outputs": [
        {
          "output_type": "stream",
          "text": [
            "참가자: Counter({'leo': 1, 'kiki': 1, 'eden': 1})\n",
            "완주자: Counter({'eden': 1, 'kiki': 1})\n",
            "Counter({'leo': 1})\n",
            "정답: leo\n"
          ],
          "name": "stdout"
        }
      ]
    },
    {
      "cell_type": "code",
      "metadata": {
        "id": "f0yULTT-PI_k",
        "colab_type": "code",
        "outputId": "161f5523-d6d8-4d96-b8fe-e461e236880f",
        "colab": {
          "base_uri": "https://localhost:8080/",
          "height": 35
        }
      },
      "source": [
        "list(answer.keys())[0]"
      ],
      "execution_count": 0,
      "outputs": [
        {
          "output_type": "execute_result",
          "data": {
            "text/plain": [
              "'leo'"
            ]
          },
          "metadata": {
            "tags": []
          },
          "execution_count": 7
        }
      ]
    }
  ]
}